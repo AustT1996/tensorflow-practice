{
 "cells": [
  {
   "cell_type": "markdown",
   "metadata": {},
   "source": [
    "## Tutorial from the following website:\n",
    "https://blog.keras.io/keras-as-a-simplified-interface-to-tensorflow-tutorial.html"
   ]
  },
  {
   "cell_type": "code",
   "execution_count": 3,
   "metadata": {},
   "outputs": [],
   "source": [
    "import tensorflow as tf\n",
    "keras = tf.keras"
   ]
  },
  {
   "cell_type": "code",
   "execution_count": 4,
   "metadata": {},
   "outputs": [],
   "source": [
    "from tensorflow.python.keras import backend as K"
   ]
  },
  {
   "cell_type": "code",
   "execution_count": 5,
   "metadata": {},
   "outputs": [],
   "source": [
    "sess = tf.Session()\n",
    "K.set_session(sess)"
   ]
  },
  {
   "cell_type": "code",
   "execution_count": 6,
   "metadata": {},
   "outputs": [],
   "source": [
    "# this placeholder will contain our input digits, as flat vectors\n",
    "img = tf.placeholder(tf.float32, shape=(None, 784))"
   ]
  },
  {
   "cell_type": "code",
   "execution_count": 8,
   "metadata": {},
   "outputs": [],
   "source": [
    "from tensorflow.python.keras.layers import Dense"
   ]
  },
  {
   "cell_type": "code",
   "execution_count": 9,
   "metadata": {},
   "outputs": [],
   "source": [
    "# Keras layers can be called on TensorFlow tensors:\n",
    "x = Dense(128, activation='relu')(img)  # fully-connected layer with 128 units and ReLU activation\n",
    "x = Dense(128, activation='relu')(x)\n",
    "preds = Dense(10, activation='softmax')(x)  # output layer with 10 units and a softmax activation"
   ]
  },
  {
   "cell_type": "code",
   "execution_count": 13,
   "metadata": {},
   "outputs": [],
   "source": [
    "labels = tf.placeholder(tf.float32, shape=(None, 10))\n",
    "\n",
    "from tensorflow.python.keras.losses import categorical_crossentropy\n",
    "loss = tf.reduce_mean(categorical_crossentropy(labels, preds))"
   ]
  },
  {
   "cell_type": "code",
   "execution_count": 15,
   "metadata": {},
   "outputs": [
    {
     "name": "stdout",
     "output_type": "stream",
     "text": [
      "Successfully downloaded train-images-idx3-ubyte.gz 9912422 bytes.\n",
      "Extracting MNIST_data\\train-images-idx3-ubyte.gz\n",
      "Successfully downloaded train-labels-idx1-ubyte.gz 28881 bytes.\n",
      "Extracting MNIST_data\\train-labels-idx1-ubyte.gz\n",
      "Successfully downloaded t10k-images-idx3-ubyte.gz 1648877 bytes.\n",
      "Extracting MNIST_data\\t10k-images-idx3-ubyte.gz\n",
      "Successfully downloaded t10k-labels-idx1-ubyte.gz 4542 bytes.\n",
      "Extracting MNIST_data\\t10k-labels-idx1-ubyte.gz\n",
      "Done batch #1\n",
      "Done batch #2\n",
      "Done batch #3\n",
      "Done batch #4\n",
      "Done batch #5\n",
      "Done batch #6\n",
      "Done batch #7\n",
      "Done batch #8\n",
      "Done batch #9\n",
      "Done batch #10\n",
      "Done batch #11\n",
      "Done batch #12\n",
      "Done batch #13\n",
      "Done batch #14\n",
      "Done batch #15\n",
      "Done batch #16\n",
      "Done batch #17\n",
      "Done batch #18\n",
      "Done batch #19\n",
      "Done batch #20\n",
      "Done batch #21\n",
      "Done batch #22\n",
      "Done batch #23\n",
      "Done batch #24\n",
      "Done batch #25\n",
      "Done batch #26\n",
      "Done batch #27\n",
      "Done batch #28\n",
      "Done batch #29\n",
      "Done batch #30\n",
      "Done batch #31\n",
      "Done batch #32\n",
      "Done batch #33\n",
      "Done batch #34\n",
      "Done batch #35\n",
      "Done batch #36\n",
      "Done batch #37\n",
      "Done batch #38\n",
      "Done batch #39\n",
      "Done batch #40\n",
      "Done batch #41\n",
      "Done batch #42\n",
      "Done batch #43\n",
      "Done batch #44\n",
      "Done batch #45\n",
      "Done batch #46\n",
      "Done batch #47\n",
      "Done batch #48\n",
      "Done batch #49\n",
      "Done batch #50\n",
      "Done batch #51\n",
      "Done batch #52\n",
      "Done batch #53\n",
      "Done batch #54\n",
      "Done batch #55\n",
      "Done batch #56\n",
      "Done batch #57\n",
      "Done batch #58\n",
      "Done batch #59\n",
      "Done batch #60\n",
      "Done batch #61\n",
      "Done batch #62\n",
      "Done batch #63\n",
      "Done batch #64\n",
      "Done batch #65\n",
      "Done batch #66\n",
      "Done batch #67\n",
      "Done batch #68\n",
      "Done batch #69\n",
      "Done batch #70\n",
      "Done batch #71\n",
      "Done batch #72\n",
      "Done batch #73\n",
      "Done batch #74\n",
      "Done batch #75\n",
      "Done batch #76\n",
      "Done batch #77\n",
      "Done batch #78\n",
      "Done batch #79\n",
      "Done batch #80\n",
      "Done batch #81\n",
      "Done batch #82\n",
      "Done batch #83\n",
      "Done batch #84\n",
      "Done batch #85\n",
      "Done batch #86\n",
      "Done batch #87\n",
      "Done batch #88\n",
      "Done batch #89\n",
      "Done batch #90\n",
      "Done batch #91\n",
      "Done batch #92\n",
      "Done batch #93\n",
      "Done batch #94\n",
      "Done batch #95\n",
      "Done batch #96\n",
      "Done batch #97\n",
      "Done batch #98\n",
      "Done batch #99\n",
      "Done batch #100\n"
     ]
    }
   ],
   "source": [
    "from tensorflow.examples.tutorials.mnist import input_data\n",
    "mnist_data = input_data.read_data_sets('MNIST_data', one_hot=True)\n",
    "\n",
    "train_step = tf.train.GradientDescentOptimizer(0.5).minimize(loss)\n",
    "\n",
    "# Initialize all variables\n",
    "init_op = tf.global_variables_initializer()\n",
    "sess.run(init_op)\n",
    "\n",
    "# Run training loop\n",
    "with sess.as_default():\n",
    "    for i in range(100):\n",
    "        batch = mnist_data.train.next_batch(50)\n",
    "        train_step.run(feed_dict={img: batch[0],\n",
    "                                  labels: batch[1]})\n",
    "        print(\"Done batch #{}\".format(i+1))"
   ]
  },
  {
   "cell_type": "code",
   "execution_count": 17,
   "metadata": {},
   "outputs": [
    {
     "name": "stdout",
     "output_type": "stream",
     "text": [
      "[ 1.  1.  1. ...,  1.  1.  1.]\n"
     ]
    }
   ],
   "source": [
    "from tensorflow.python.keras.metrics import categorical_accuracy as accuracy\n",
    "\n",
    "acc_value = accuracy(labels, preds)\n",
    "with sess.as_default():\n",
    "    print(acc_value.eval(feed_dict={img: mnist_data.test.images,\n",
    "                                    labels: mnist_data.test.labels}))"
   ]
  },
  {
   "cell_type": "code",
   "execution_count": null,
   "metadata": {},
   "outputs": [],
   "source": []
  }
 ],
 "metadata": {
  "kernelspec": {
   "display_name": "Python 3",
   "language": "python",
   "name": "python3"
  },
  "language_info": {
   "codemirror_mode": {
    "name": "ipython",
    "version": 3
   },
   "file_extension": ".py",
   "mimetype": "text/x-python",
   "name": "python",
   "nbconvert_exporter": "python",
   "pygments_lexer": "ipython3",
   "version": "3.6.3"
  }
 },
 "nbformat": 4,
 "nbformat_minor": 2
}
