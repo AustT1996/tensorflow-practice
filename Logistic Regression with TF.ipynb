{
 "cells": [
  {
   "cell_type": "markdown",
   "metadata": {},
   "source": [
    "# Implementing logistic regression with tensorflow\n",
    "## Done for Hands On ML chapter 9 exercise 12"
   ]
  },
  {
   "cell_type": "code",
   "execution_count": 1,
   "metadata": {},
   "outputs": [],
   "source": [
    "import tensorflow as tf\n",
    "import numpy as np\n",
    "import matplotlib.pyplot as plt\n",
    "import os"
   ]
  },
  {
   "cell_type": "code",
   "execution_count": 2,
   "metadata": {},
   "outputs": [],
   "source": [
    "from sklearn.linear_model import LogisticRegression\n",
    "from sklearn.metrics import accuracy_score"
   ]
  },
  {
   "cell_type": "code",
   "execution_count": 3,
   "metadata": {},
   "outputs": [
    {
     "data": {
      "image/png": "[encoded data removed]",
      "text/plain": [
       "<matplotlib.figure.Figure at 0x1a48dbe0c50>"
      ]
     },
     "metadata": {},
     "output_type": "display_data"
    }
   ],
   "source": [
    "# Import data\n",
    "from sklearn.datasets import make_moons\n",
    "n_samples = 100\n",
    "X_moons, y_moons = make_moons(n_samples=n_samples, noise=0.15, random_state=42)\n",
    "\n",
    "def plot_dataset(X, y, axes):\n",
    "    plt.plot(X[:, 0][y==0], X[:, 1][y==0], \"bs\")\n",
    "    plt.plot(X[:, 0][y==1], X[:, 1][y==1], \"g^\")\n",
    "    plt.axis(axes)\n",
    "    plt.grid(True, which='both')\n",
    "    plt.xlabel(r\"$x_1$\", fontsize=20)\n",
    "    plt.ylabel(r\"$x_2$\", fontsize=20, rotation=0)\n",
    "\n",
    "plot_dataset(X_moons, y_moons, [-1.5, 2.5, -1, 1.5])\n",
    "plt.show()"
   ]
  },
  {
   "cell_type": "code",
   "execution_count": 4,
   "metadata": {},
   "outputs": [],
   "source": [
    "# Information on batch sizes / percentages\n",
    "n_train_iterations = 5000\n",
    "batch_size = 25\n",
    "learn_rate = 5e-3\n",
    "\n",
    "def get_moons_batch():\n",
    "    indices = np.random.randint(n_samples, size=batch_size)\n",
    "    X_ = X_moons[indices, :]\n",
    "    y_ = y_moons[indices].reshape(-1, 1).astype(np.float32)\n",
    "    return X_, y_\n",
    "\n",
    "# Set up variables\n",
    "tf.reset_default_graph()\n",
    "\n",
    "X = tf.placeholder(tf.float32, shape=(None, 2), name=\"X\")\n",
    "y = tf.placeholder(tf.float32, shape=(None, 1), name=\"y\")\n",
    "\n",
    "\n",
    "theta = tf.Variable(initial_value=np.random.random((2, 1))*2-1, \n",
    "                    dtype=tf.float32, name=\"weights\")\n",
    "\n",
    "# Loss function\n",
    "epsilon = 1e-10\n",
    "p = 1. / (1. + tf.exp(-1 * tf.matmul(X, theta)))\n",
    "loss_func = - (tf.matmul(tf.transpose(y), tf.log(p + epsilon)) +\n",
    "    tf.matmul(tf.transpose(1. - y), tf.log(1. - p + epsilon)))\n",
    "\n",
    "optimizer = tf.train.GradientDescentOptimizer(learning_rate=learn_rate)\n",
    "training_op = optimizer.minimize(loss_func)\n",
    "\n",
    "init = tf.global_variables_initializer()"
   ]
  },
  {
   "cell_type": "code",
   "execution_count": 5,
   "metadata": {
    "scrolled": false
   },
   "outputs": [
    {
     "name": "stdout",
     "output_type": "stream",
     "text": [
      "Start theta:\n",
      "[[-0.30145898]\n",
      " [ 0.55814683]]\n",
      "\n",
      "Batch #0: loss = 22.089109420776367\n",
      "Batch #1000: loss = 6.039754867553711\n",
      "Batch #2000: loss = 8.226639747619629\n",
      "Batch #3000: loss = 7.881573677062988\n",
      "Batch #4000: loss = 2.2746455669403076\n",
      "\n",
      "\n",
      "Best Score: 0.88\n",
      "Best theta:\n",
      "[[ 1.40956116]\n",
      " [-4.17738676]]\n",
      "\n"
     ]
    }
   ],
   "source": [
    "# Run the session\n",
    "with tf.Session() as sess:\n",
    "    sess.run(init)\n",
    "    \n",
    "    # Print start theta\n",
    "    print(\"Start theta:\\n{}\\n\".format(theta.eval()))\n",
    "    for batch_num in range(n_train_iterations):\n",
    "        X_batch, y_batch = get_moons_batch()\n",
    "        _, p_val, loss = sess.run([training_op, p, loss_func], feed_dict={X: X_batch, y: y_batch})\n",
    "        \n",
    "        # Print loss function\n",
    "        if batch_num % (n_train_iterations // 5) == 0:\n",
    "            print(\"Batch #{}: loss = {}\".format(batch_num, loss[0, 0]))\n",
    "            \n",
    "    best_theta = theta.eval()\n",
    "    \n",
    "    # Evaluate accuracy score\n",
    "    p_final = sess.run(p, feed_dict={X: X_moons})\n",
    "    best_score = accuracy_score(y_moons, np.round(p_final))\n",
    "\n",
    "    \n",
    "# Display the best theta\n",
    "print(\"\\n\\nBest Score: {}\".format(best_score))\n",
    "\n",
    "print(\"Best theta:\\n{}\\n\".format(best_theta))"
   ]
  },
  {
   "cell_type": "code",
   "execution_count": 6,
   "metadata": {},
   "outputs": [
    {
     "name": "stdout",
     "output_type": "stream",
     "text": [
      "Start theta:\n",
      "[[-0.62637001]\n",
      " [ 0.97536504]]\n",
      "\n",
      "Batch #0: loss = 1.093448281288147\n",
      "Batch #2000: loss = 0.44453829526901245\n",
      "Batch #4000: loss = 0.31966808438301086\n",
      "Batch #6000: loss = 0.19728673994541168\n",
      "Batch #8000: loss = 0.339651495218277\n",
      "\n",
      "\n",
      "Best Score: 0.86\n",
      "Best theta:\n",
      "[[ 1.29450512]\n",
      " [-2.87061477]]\n",
      "\n"
     ]
    }
   ],
   "source": [
    "# Try again using better built-in functions\n",
    "\n",
    "# Information on batch sizes / percentages\n",
    "n_train_iterations = 10000\n",
    "batch_size = 25\n",
    "learn_rate = 5e-3\n",
    "\n",
    "def get_moons_batch():\n",
    "    indices = np.random.randint(n_samples, size=batch_size)\n",
    "    X_ = X_moons[indices, :]\n",
    "    y_ = y_moons[indices].reshape(-1, 1).astype(np.float32)\n",
    "    return X_, y_\n",
    "\n",
    "# Set up variables\n",
    "tf.reset_default_graph()\n",
    "\n",
    "X = tf.placeholder(tf.float32, shape=(None, 2), name=\"X\")\n",
    "y = tf.placeholder(tf.float32, shape=(None, 1), name=\"y\")\n",
    "\n",
    "\n",
    "theta = tf.Variable(initial_value=np.random.random((2, 1))*2-1, \n",
    "                    dtype=tf.float32, name=\"weights\")\n",
    "\n",
    "# Loss function\n",
    "logits = tf.matmul(X, theta, name=\"logits\")\n",
    "p = tf.sigmoid(logits)\n",
    "loss_func = tf.losses.log_loss(y, p)\n",
    "\n",
    "optimizer = tf.train.GradientDescentOptimizer(learning_rate=learn_rate)\n",
    "training_op = optimizer.minimize(loss_func)\n",
    "\n",
    "init = tf.global_variables_initializer()\n",
    "\n",
    "# Run the session\n",
    "with tf.Session() as sess:\n",
    "    sess.run(init)\n",
    "    \n",
    "    # Print start theta\n",
    "    print(\"Start theta:\\n{}\\n\".format(theta.eval()))\n",
    "    for batch_num in range(n_train_iterations):\n",
    "        X_batch, y_batch = get_moons_batch()\n",
    "        _, p_val, loss = sess.run([training_op, p, loss_func], feed_dict={X: X_batch, y: y_batch})\n",
    "        \n",
    "        # Print loss function\n",
    "        if batch_num % (n_train_iterations // 5) == 0:\n",
    "            print(\"Batch #{}: loss = {}\".format(batch_num, loss))\n",
    "            \n",
    "    best_theta = theta.eval()\n",
    "    \n",
    "    # Evaluate accuracy score\n",
    "    p_final = sess.run(p, feed_dict={X: X_moons})\n",
    "    best_score = accuracy_score(y_moons, np.round(p_final))\n",
    "\n",
    "    \n",
    "# Display the best theta\n",
    "print(\"\\n\\nBest Score: {}\".format(best_score))\n",
    "print(\"Best theta:\\n{}\\n\".format(best_theta))"
   ]
  },
  {
   "cell_type": "markdown",
   "metadata": {},
   "source": [
    "# Define a logistic regression function to set up graph"
   ]
  },
  {
   "cell_type": "code",
   "execution_count": 7,
   "metadata": {},
   "outputs": [],
   "source": [
    "def log_reg_graph(X, y):\n",
    "    theta = tf.Variable(initial_value=np.random.random((2, 1))*2-1, \n",
    "                        dtype=tf.float32, name=\"weights\")\n",
    "\n",
    "    # Loss function\n",
    "    logits = tf.matmul(X, theta, name=\"logits\")\n",
    "    p = tf.sigmoid(logits)\n",
    "    loss_func = tf.losses.log_loss(y, p)\n",
    "    loss_summ = tf.summary.scalar('log_loss', loss_func)\n",
    "    optimizer = tf.train.GradientDescentOptimizer(learning_rate=learn_rate)\n",
    "    training_op = optimizer.minimize(loss_func)\n",
    "    init = tf.global_variables_initializer()\n",
    "    saver = tf.train.Saver()\n",
    "    \n",
    "    return p, theta, loss_func, loss_summ, init, saver, training_op"
   ]
  },
  {
   "cell_type": "code",
   "execution_count": 8,
   "metadata": {},
   "outputs": [],
   "source": [
    "from datetime import datetime\n",
    "def log_dir(prefix=\"\"):\n",
    "    now = datetime.utcnow().strftime(\"%Y%m%d%H%M%S\")\n",
    "    root_logdir = \"tf_logs\"\n",
    "    if prefix:\n",
    "        prefix += \"-\"\n",
    "    name = prefix + \"run-\" + now\n",
    "    return \"{}/{}/\".format(root_logdir, name)"
   ]
  },
  {
   "cell_type": "code",
   "execution_count": 9,
   "metadata": {},
   "outputs": [],
   "source": [
    "tf.reset_default_graph()\n",
    "logdir = log_dir(\"logreg\")\n",
    "\n",
    "X = tf.placeholder(tf.float32, shape=(None, 2), name=\"X\")\n",
    "y = tf.placeholder(tf.float32, shape=(None, 1), name=\"y\")\n",
    "\n",
    "p, theta, loss_func, loss_summ, init, saver, training_op = log_reg_graph(X, y)\n",
    "\n",
    "file_writer = tf.summary.FileWriter(logdir, tf.get_default_graph())"
   ]
  },
  {
   "cell_type": "code",
   "execution_count": 10,
   "metadata": {},
   "outputs": [
    {
     "name": "stdout",
     "output_type": "stream",
     "text": [
      "Epoch: 0 \tLoss: 0.794572\n",
      "Epoch: 500 \tLoss: 0.474075\n",
      "Epoch: 1000 \tLoss: 0.400489\n",
      "Epoch: 1500 \tLoss: 0.36673\n",
      "Epoch: 2000 \tLoss: 0.34708\n",
      "Epoch: 2500 \tLoss: 0.334316\n",
      "Epoch: 3000 \tLoss: 0.325553\n",
      "Epoch: 3500 \tLoss: 0.319131\n",
      "Epoch: 4000 \tLoss: 0.314524\n",
      "Epoch: 4500 \tLoss: 0.311064\n",
      "Epoch: 5000 \tLoss: 0.308395\n",
      "Epoch: 5500 \tLoss: 0.306363\n",
      "Epoch: 6000 \tLoss: 0.304623\n",
      "Epoch: 6500 \tLoss: 0.303336\n",
      "Epoch: 7000 \tLoss: 0.302274\n",
      "Epoch: 7500 \tLoss: 0.301429\n",
      "Epoch: 8000 \tLoss: 0.300714\n",
      "Epoch: 8500 \tLoss: 0.300119\n",
      "Epoch: 9000 \tLoss: 0.29961\n",
      "Epoch: 9500 \tLoss: 0.299224\n",
      "Epoch: 10000 \tLoss: 0.298844\n"
     ]
    }
   ],
   "source": [
    "checkpoint_path = \"./tmp/logreg_checkpoint.ckpt\"\n",
    "checkpoint_epoch_path = checkpoint_path + \".epoch\"\n",
    "final_model_path = \"./models/my_logreg_model\"\n",
    "\n",
    "n_epochs = 10001\n",
    "batch_size = 50\n",
    "n_batches = int(np.ceil(n_samples / batch_size))\n",
    "\n",
    "with tf.Session() as sess:\n",
    "    if os.path.isfile(checkpoint_epoch_path):\n",
    "        # if the checkpoint file exists, restore the model and load the epoch number\n",
    "        with open(checkpoint_epoch_path, \"rb\") as f:\n",
    "            start_epoch = int(f.read())\n",
    "        print(\"Training was interrupted. Continuing at epoch\", start_epoch)\n",
    "        saver.restore(sess, checkpoint_path)\n",
    "    else:\n",
    "        start_epoch = 0\n",
    "        sess.run(init)\n",
    "        \n",
    "    for epoch in range(start_epoch, n_epochs):\n",
    "        for batch_index in range(n_batches):\n",
    "            X_batch, y_batch = get_moons_batch()\n",
    "            sess.run(training_op, feed_dict={X: X_batch, y: y_batch})\n",
    "        loss_val, summary_str = sess.run([loss_func, loss_summ],\n",
    "                                         feed_dict={X: X_moons, y: y_moons.reshape(-1, 1)})\n",
    "        file_writer.add_summary(summary_str, epoch)\n",
    "        if epoch % 500 == 0:\n",
    "            print(\"Epoch:\", epoch, \"\\tLoss:\", loss_val)\n",
    "            saver.save(sess, checkpoint_path)\n",
    "            with open(checkpoint_epoch_path, \"wb\") as f:\n",
    "                f.write(b\"%d\" % (epoch + 1))\n",
    "\n",
    "    saver.save(sess, final_model_path)\n",
    "    y_proba_val = p.eval(feed_dict={X: X_moons, y: y_moons.reshape(-1, 1)})\n",
    "    theta_val = theta.eval()\n",
    "    os.remove(checkpoint_epoch_path)"
   ]
  },
  {
   "cell_type": "code",
   "execution_count": 11,
   "metadata": {},
   "outputs": [
    {
     "data": {
      "text/plain": [
       "array([[ 1.37735367],\n",
       "       [-3.63062119]], dtype=float32)"
      ]
     },
     "execution_count": 11,
     "metadata": {},
     "output_type": "execute_result"
    }
   ],
   "source": [
    "theta_val"
   ]
  },
  {
   "cell_type": "code",
   "execution_count": 12,
   "metadata": {},
   "outputs": [
    {
     "data": {
      "text/plain": [
       "0.88"
      ]
     },
     "execution_count": 12,
     "metadata": {},
     "output_type": "execute_result"
    }
   ],
   "source": [
    "accuracy_score(y_moons.reshape(-1, 1), np.round(y_proba_val))"
   ]
  },
  {
   "cell_type": "markdown",
   "metadata": {},
   "source": [
    "# Compare to sklearn logistic regression to see if it matches (it should)"
   ]
  },
  {
   "cell_type": "code",
   "execution_count": 13,
   "metadata": {},
   "outputs": [
    {
     "data": {
      "text/plain": [
       "LogisticRegression(C=1.0, class_weight=None, dual=False, fit_intercept=True,\n",
       "          intercept_scaling=1, max_iter=100, multi_class='ovr', n_jobs=1,\n",
       "          penalty='l2', random_state=None, solver='liblinear', tol=0.0001,\n",
       "          verbose=0, warm_start=False)"
      ]
     },
     "execution_count": 13,
     "metadata": {},
     "output_type": "execute_result"
    }
   ],
   "source": [
    "log_reg = LogisticRegression()\n",
    "log_reg.fit(X_moons, y_moons)"
   ]
  },
  {
   "cell_type": "code",
   "execution_count": 14,
   "metadata": {},
   "outputs": [
    {
     "data": {
      "text/plain": [
       "array([[ 1.1391435 , -2.80044793]])"
      ]
     },
     "execution_count": 14,
     "metadata": {},
     "output_type": "execute_result"
    }
   ],
   "source": [
    "log_reg.coef_"
   ]
  },
  {
   "cell_type": "code",
   "execution_count": 15,
   "metadata": {},
   "outputs": [
    {
     "data": {
      "text/plain": [
       "array([0], dtype=int64)"
      ]
     },
     "execution_count": 15,
     "metadata": {},
     "output_type": "execute_result"
    }
   ],
   "source": [
    "log_reg.predict([[0., 1.]])"
   ]
  },
  {
   "cell_type": "code",
   "execution_count": 16,
   "metadata": {},
   "outputs": [
    {
     "data": {
      "text/plain": [
       "array([[ 0.14551799,  0.85448201]])"
      ]
     },
     "execution_count": 16,
     "metadata": {},
     "output_type": "execute_result"
    }
   ],
   "source": [
    "log_reg.predict_proba([[-1, -1]])"
   ]
  },
  {
   "cell_type": "code",
   "execution_count": 17,
   "metadata": {},
   "outputs": [
    {
     "data": {
      "text/plain": [
       "0.85999999999999999"
      ]
     },
     "execution_count": 17,
     "metadata": {},
     "output_type": "execute_result"
    }
   ],
   "source": [
    "log_reg.score(X_moons, y_moons)"
   ]
  }
 ],
 "metadata": {
  "kernelspec": {
   "display_name": "Python 3",
   "language": "python",
   "name": "python3"
  },
  "language_info": {
   "codemirror_mode": {
    "name": "ipython",
    "version": 3
   },
   "file_extension": ".py",
   "mimetype": "text/x-python",
   "name": "python",
   "nbconvert_exporter": "python",
   "pygments_lexer": "ipython3",
   "version": "3.6.3"
  }
 },
 "nbformat": 4,
 "nbformat_minor": 2
}
