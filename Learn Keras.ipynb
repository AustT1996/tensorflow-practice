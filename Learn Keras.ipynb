{
 "cells": [
  {
   "cell_type": "markdown",
   "metadata": {},
   "source": [
    "# Goal of this notebook is to do some simple modelling in Keras"
   ]
  },
  {
   "cell_type": "code",
   "execution_count": 10,
   "metadata": {},
   "outputs": [],
   "source": [
    "import tensorflow as tf\n",
    "import numpy as np"
   ]
  },
  {
   "cell_type": "code",
   "execution_count": 4,
   "metadata": {},
   "outputs": [],
   "source": [
    "# Toy dataset: boston housing\n",
    "from sklearn.datasets import load_boston\n",
    "boston = load_boston()"
   ]
  },
  {
   "cell_type": "code",
   "execution_count": 28,
   "metadata": {},
   "outputs": [],
   "source": [
    "from sklearn import model_selection\n",
    "X_train, X_test, Y_train, Y_test = \\\n",
    "    model_selection.train_test_split(boston.data, boston.target,\n",
    "                                    test_size=0.1)"
   ]
  },
  {
   "cell_type": "code",
   "execution_count": 31,
   "metadata": {},
   "outputs": [
    {
     "data": {
      "text/plain": [
       "(455, 13)"
      ]
     },
     "execution_count": 31,
     "metadata": {},
     "output_type": "execute_result"
    }
   ],
   "source": [
    "X_train.shape"
   ]
  },
  {
   "cell_type": "code",
   "execution_count": 32,
   "metadata": {},
   "outputs": [
    {
     "data": {
      "text/plain": [
       "(51, 13)"
      ]
     },
     "execution_count": 32,
     "metadata": {},
     "output_type": "execute_result"
    }
   ],
   "source": [
    "X_test.shape"
   ]
  },
  {
   "cell_type": "code",
   "execution_count": 33,
   "metadata": {},
   "outputs": [
    {
     "data": {
      "text/plain": [
       "(455,)"
      ]
     },
     "execution_count": 33,
     "metadata": {},
     "output_type": "execute_result"
    }
   ],
   "source": [
    "Y_train.shape"
   ]
  },
  {
   "cell_type": "code",
   "execution_count": 34,
   "metadata": {},
   "outputs": [
    {
     "data": {
      "text/plain": [
       "(51,)"
      ]
     },
     "execution_count": 34,
     "metadata": {},
     "output_type": "execute_result"
    }
   ],
   "source": [
    "Y_test.shape"
   ]
  },
  {
   "cell_type": "markdown",
   "metadata": {},
   "source": [
    "## Basic Keras model"
   ]
  },
  {
   "cell_type": "code",
   "execution_count": 15,
   "metadata": {},
   "outputs": [],
   "source": [
    "from tensorflow import keras"
   ]
  },
  {
   "cell_type": "code",
   "execution_count": 73,
   "metadata": {},
   "outputs": [],
   "source": [
    "model = keras.models.Sequential()\n",
    "model.add(keras.layers.Dense(1, input_shape=(X_train.shape[1],),\n",
    "                             activation='linear'))\n",
    "model.compile(optimizer='rmsprop', loss='mean_squared_error')"
   ]
  },
  {
   "cell_type": "code",
   "execution_count": 74,
   "metadata": {},
   "outputs": [
    {
     "name": "stdout",
     "output_type": "stream",
     "text": [
      "Train on 455 samples, validate on 51 samples\n",
      "Epoch 1/200\n",
      "455/455 [==============================] - 0s - loss: 9400.4401 - val_loss: 8938.3645\n",
      "Epoch 2/200\n",
      "455/455 [==============================] - 0s - loss: 7670.6224 - val_loss: 7736.8606\n",
      "Epoch 3/200\n",
      "455/455 [==============================] - 0s - loss: 6690.4759 - val_loss: 6767.3006\n",
      "Epoch 4/200\n",
      "455/455 [==============================] - 0s - loss: 5936.5247 - val_loss: 6063.2784\n",
      "Epoch 5/200\n",
      "455/455 [==============================] - 0s - loss: 5373.4152 - val_loss: 5540.1145\n",
      "Epoch 6/200\n",
      "455/455 [==============================] - 0s - loss: 4961.0666 - val_loss: 5101.4691\n",
      "Epoch 7/200\n",
      "455/455 [==============================] - 0s - loss: 4564.2352 - val_loss: 4660.1330\n",
      "Epoch 8/200\n",
      "455/455 [==============================] - 0s - loss: 4175.4958 - val_loss: 4233.0701\n",
      "Epoch 9/200\n",
      "455/455 [==============================] - 0s - loss: 3819.4969 - val_loss: 3899.8086\n",
      "Epoch 10/200\n",
      "455/455 [==============================] - 0s - loss: 3526.7132 - val_loss: 3562.6353\n",
      "Epoch 11/200\n",
      "455/455 [==============================] - 0s - loss: 3218.1284 - val_loss: 3247.8237\n",
      "Epoch 12/200\n",
      "455/455 [==============================] - 0s - loss: 2925.5125 - val_loss: 2926.2144\n",
      "Epoch 13/200\n",
      "455/455 [==============================] - 0s - loss: 2645.1659 - val_loss: 2627.5754\n",
      "Epoch 14/200\n",
      "455/455 [==============================] - 0s - loss: 2392.3165 - val_loss: 2390.9732\n",
      "Epoch 15/200\n",
      "455/455 [==============================] - 0s - loss: 2165.3283 - val_loss: 2150.0920\n",
      "Epoch 16/200\n",
      "455/455 [==============================] - 0s - loss: 1955.2629 - val_loss: 1945.3130\n",
      "Epoch 17/200\n",
      "455/455 [==============================] - 0s - loss: 1760.6359 - val_loss: 1743.8158\n",
      "Epoch 18/200\n",
      "455/455 [==============================] - 0s - loss: 1577.8049 - val_loss: 1537.3310\n",
      "Epoch 19/200\n",
      "455/455 [==============================] - 0s - loss: 1407.7494 - val_loss: 1363.3175\n",
      "Epoch 20/200\n",
      "455/455 [==============================] - 0s - loss: 1257.0467 - val_loss: 1214.7653\n",
      "Epoch 21/200\n",
      "455/455 [==============================] - 0s - loss: 1117.3694 - val_loss: 1068.0578\n",
      "Epoch 22/200\n",
      "455/455 [==============================] - 0s - loss: 993.8211 - val_loss: 960.4973\n",
      "Epoch 23/200\n",
      "455/455 [==============================] - 0s - loss: 885.6860 - val_loss: 830.6371\n",
      "Epoch 24/200\n",
      "455/455 [==============================] - 0s - loss: 778.6443 - val_loss: 722.0891\n",
      "Epoch 25/200\n",
      "455/455 [==============================] - 0s - loss: 680.7403 - val_loss: 626.4512\n",
      "Epoch 26/200\n",
      "455/455 [==============================] - 0s - loss: 599.5052 - val_loss: 547.6554\n",
      "Epoch 27/200\n",
      "455/455 [==============================] - 0s - loss: 531.1024 - val_loss: 482.3165\n",
      "Epoch 28/200\n",
      "455/455 [==============================] - 0s - loss: 470.6852 - val_loss: 416.8490\n",
      "Epoch 29/200\n",
      "455/455 [==============================] - 0s - loss: 416.5739 - val_loss: 361.7996\n",
      "Epoch 30/200\n",
      "455/455 [==============================] - 0s - loss: 370.9802 - val_loss: 323.6427\n",
      "Epoch 31/200\n",
      "455/455 [==============================] - 0s - loss: 336.2003 - val_loss: 287.3209\n",
      "Epoch 32/200\n",
      "455/455 [==============================] - 0s - loss: 307.0757 - val_loss: 262.3978\n",
      "Epoch 33/200\n",
      "455/455 [==============================] - 0s - loss: 282.0846 - val_loss: 233.1978\n",
      "Epoch 34/200\n",
      "455/455 [==============================] - 0s - loss: 262.2422 - val_loss: 216.6301\n",
      "Epoch 35/200\n",
      "455/455 [==============================] - 0s - loss: 246.9046 - val_loss: 198.8454\n",
      "Epoch 36/200\n",
      "455/455 [==============================] - 0s - loss: 232.0719 - val_loss: 194.5870\n",
      "Epoch 37/200\n",
      "455/455 [==============================] - 0s - loss: 218.2809 - val_loss: 172.2767\n",
      "Epoch 38/200\n",
      "455/455 [==============================] - 0s - loss: 208.8076 - val_loss: 159.7185\n",
      "Epoch 39/200\n",
      "455/455 [==============================] - 0s - loss: 195.4278 - val_loss: 149.8682\n",
      "Epoch 40/200\n",
      "455/455 [==============================] - 0s - loss: 186.3226 - val_loss: 150.8362\n",
      "Epoch 41/200\n",
      "455/455 [==============================] - 0s - loss: 177.4998 - val_loss: 140.0129\n",
      "Epoch 42/200\n",
      "455/455 [==============================] - 0s - loss: 169.1592 - val_loss: 122.9406\n",
      "Epoch 43/200\n",
      "455/455 [==============================] - 0s - loss: 159.7811 - val_loss: 114.5836\n",
      "Epoch 44/200\n",
      "455/455 [==============================] - 0s - loss: 151.9198 - val_loss: 108.1828\n",
      "Epoch 45/200\n",
      "455/455 [==============================] - 0s - loss: 142.5700 - val_loss: 99.7318\n",
      "Epoch 46/200\n",
      "455/455 [==============================] - 0s - loss: 137.1897 - val_loss: 92.7168\n",
      "Epoch 47/200\n",
      "455/455 [==============================] - 0s - loss: 131.4580 - val_loss: 87.8333\n",
      "Epoch 48/200\n",
      "455/455 [==============================] - 0s - loss: 124.1409 - val_loss: 84.0650\n",
      "Epoch 49/200\n",
      "455/455 [==============================] - 0s - loss: 121.1887 - val_loss: 78.3490\n",
      "Epoch 50/200\n",
      "455/455 [==============================] - 0s - loss: 115.8407 - val_loss: 72.3496\n",
      "Epoch 51/200\n",
      "455/455 [==============================] - 0s - loss: 111.2687 - val_loss: 68.6458\n",
      "Epoch 52/200\n",
      "455/455 [==============================] - 0s - loss: 105.9748 - val_loss: 75.1519\n",
      "Epoch 53/200\n",
      "455/455 [==============================] - 0s - loss: 103.0256 - val_loss: 63.1904\n",
      "Epoch 54/200\n",
      "455/455 [==============================] - 0s - loss: 98.6889 - val_loss: 58.4236\n",
      "Epoch 55/200\n",
      "455/455 [==============================] - 0s - loss: 95.2926 - val_loss: 54.3031\n",
      "Epoch 56/200\n",
      "455/455 [==============================] - 0s - loss: 91.2028 - val_loss: 52.3159\n",
      "Epoch 57/200\n",
      "455/455 [==============================] - 0s - loss: 88.2593 - val_loss: 48.8667\n",
      "Epoch 58/200\n",
      "455/455 [==============================] - 0s - loss: 86.3560 - val_loss: 47.1319\n",
      "Epoch 59/200\n",
      "455/455 [==============================] - 0s - loss: 84.8958 - val_loss: 46.0060\n",
      "Epoch 60/200\n",
      "455/455 [==============================] - 0s - loss: 82.8323 - val_loss: 44.5084\n",
      "Epoch 61/200\n",
      "455/455 [==============================] - ETA: 0s - loss: 49.41 - 0s - loss: 81.4942 - val_loss: 42.4324\n",
      "Epoch 62/200\n",
      "455/455 [==============================] - 0s - loss: 79.9786 - val_loss: 41.3725\n",
      "Epoch 63/200\n",
      "455/455 [==============================] - 0s - loss: 78.4094 - val_loss: 42.0132\n",
      "Epoch 64/200\n",
      "455/455 [==============================] - 0s - loss: 78.2299 - val_loss: 41.5436\n",
      "Epoch 65/200\n",
      "455/455 [==============================] - 0s - loss: 76.7162 - val_loss: 39.0845\n",
      "Epoch 66/200\n",
      "455/455 [==============================] - 0s - loss: 75.6237 - val_loss: 38.7940\n",
      "Epoch 67/200\n",
      "455/455 [==============================] - 0s - loss: 74.6579 - val_loss: 38.2795\n",
      "Epoch 68/200\n",
      "455/455 [==============================] - 0s - loss: 74.4000 - val_loss: 38.2492\n",
      "Epoch 69/200\n",
      "455/455 [==============================] - 0s - loss: 72.6375 - val_loss: 37.5420\n",
      "Epoch 70/200\n",
      "455/455 [==============================] - 0s - loss: 73.8092 - val_loss: 42.3838\n",
      "Epoch 71/200\n",
      "455/455 [==============================] - 0s - loss: 72.6052 - val_loss: 39.8755\n",
      "Epoch 72/200\n",
      "455/455 [==============================] - 0s - loss: 71.0143 - val_loss: 36.8755\n",
      "Epoch 73/200\n",
      "455/455 [==============================] - 0s - loss: 70.7337 - val_loss: 36.9538\n",
      "Epoch 74/200\n",
      "455/455 [==============================] - 0s - loss: 69.8894 - val_loss: 41.2616\n",
      "Epoch 75/200\n",
      "455/455 [==============================] - 0s - loss: 70.4336 - val_loss: 35.0121\n",
      "Epoch 76/200\n",
      "455/455 [==============================] - 0s - loss: 69.1229 - val_loss: 40.2014\n",
      "Epoch 77/200\n",
      "455/455 [==============================] - 0s - loss: 68.3115 - val_loss: 38.0107\n",
      "Epoch 78/200\n",
      "455/455 [==============================] - 0s - loss: 68.0245 - val_loss: 36.8044\n",
      "Epoch 79/200\n",
      "455/455 [==============================] - 0s - loss: 68.0236 - val_loss: 33.6975\n",
      "Epoch 80/200\n",
      "455/455 [==============================] - 0s - loss: 66.6866 - val_loss: 42.0150\n",
      "Epoch 81/200\n",
      "455/455 [==============================] - 0s - loss: 66.4844 - val_loss: 43.7878\n",
      "Epoch 82/200\n",
      "455/455 [==============================] - 0s - loss: 66.0757 - val_loss: 32.5075\n",
      "Epoch 83/200\n",
      "455/455 [==============================] - 0s - loss: 65.2358 - val_loss: 37.1001\n",
      "Epoch 84/200\n",
      "455/455 [==============================] - 0s - loss: 65.1218 - val_loss: 31.9105\n",
      "Epoch 85/200\n"
     ]
    },
    {
     "name": "stdout",
     "output_type": "stream",
     "text": [
      "455/455 [==============================] - 0s - loss: 64.2122 - val_loss: 32.0489\n",
      "Epoch 86/200\n",
      "455/455 [==============================] - 0s - loss: 64.0216 - val_loss: 33.2981\n",
      "Epoch 87/200\n",
      "455/455 [==============================] - 0s - loss: 63.6178 - val_loss: 31.8467\n",
      "Epoch 88/200\n",
      "455/455 [==============================] - 0s - loss: 63.5901 - val_loss: 31.1005\n",
      "Epoch 89/200\n",
      "455/455 [==============================] - 0s - loss: 62.0904 - val_loss: 31.9922\n",
      "Epoch 90/200\n",
      "455/455 [==============================] - 0s - loss: 60.5857 - val_loss: 35.6939\n",
      "Epoch 91/200\n",
      "455/455 [==============================] - 0s - loss: 61.4163 - val_loss: 31.7872\n",
      "Epoch 92/200\n",
      "455/455 [==============================] - 0s - loss: 61.2299 - val_loss: 31.9525\n",
      "Epoch 93/200\n",
      "455/455 [==============================] - 0s - loss: 61.3700 - val_loss: 36.1899\n",
      "Epoch 94/200\n",
      "455/455 [==============================] - 0s - loss: 60.7356 - val_loss: 36.5910\n",
      "Epoch 95/200\n",
      "455/455 [==============================] - 0s - loss: 60.4002 - val_loss: 46.2433\n",
      "Epoch 96/200\n",
      "455/455 [==============================] - 0s - loss: 60.1540 - val_loss: 30.1595\n",
      "Epoch 97/200\n",
      "455/455 [==============================] - 0s - loss: 59.3216 - val_loss: 34.9395\n",
      "Epoch 98/200\n",
      "455/455 [==============================] - 0s - loss: 58.7070 - val_loss: 28.7047\n",
      "Epoch 99/200\n",
      "455/455 [==============================] - ETA: 0s - loss: 47.84 - 0s - loss: 58.7810 - val_loss: 30.3013\n",
      "Epoch 100/200\n",
      "455/455 [==============================] - 0s - loss: 58.1458 - val_loss: 28.0822\n",
      "Epoch 101/200\n",
      "455/455 [==============================] - 0s - loss: 57.7738 - val_loss: 32.3137\n",
      "Epoch 102/200\n",
      "455/455 [==============================] - 0s - loss: 57.8318 - val_loss: 27.8138\n",
      "Epoch 103/200\n",
      "455/455 [==============================] - 0s - loss: 56.9487 - val_loss: 27.5547\n",
      "Epoch 104/200\n",
      "455/455 [==============================] - 0s - loss: 56.6365 - val_loss: 27.3167\n",
      "Epoch 105/200\n",
      "455/455 [==============================] - 0s - loss: 56.7327 - val_loss: 27.3584\n",
      "Epoch 106/200\n",
      "455/455 [==============================] - 0s - loss: 56.5936 - val_loss: 32.0072\n",
      "Epoch 107/200\n",
      "455/455 [==============================] - 0s - loss: 56.3600 - val_loss: 29.5314\n",
      "Epoch 108/200\n",
      "455/455 [==============================] - 0s - loss: 55.6701 - val_loss: 29.7020\n",
      "Epoch 109/200\n",
      "455/455 [==============================] - 0s - loss: 55.0864 - val_loss: 33.8174\n",
      "Epoch 110/200\n",
      "455/455 [==============================] - 0s - loss: 55.7414 - val_loss: 26.1423\n",
      "Epoch 111/200\n",
      "455/455 [==============================] - 0s - loss: 53.9558 - val_loss: 32.9107\n",
      "Epoch 112/200\n",
      "455/455 [==============================] - 0s - loss: 55.8248 - val_loss: 26.3592\n",
      "Epoch 113/200\n",
      "455/455 [==============================] - 0s - loss: 54.2927 - val_loss: 25.8732\n",
      "Epoch 114/200\n",
      "455/455 [==============================] - 0s - loss: 51.6042 - val_loss: 38.6839\n",
      "Epoch 115/200\n",
      "455/455 [==============================] - 0s - loss: 54.9221 - val_loss: 25.4293\n",
      "Epoch 116/200\n",
      "455/455 [==============================] - 0s - loss: 53.0063 - val_loss: 25.2563\n",
      "Epoch 117/200\n",
      "455/455 [==============================] - 0s - loss: 52.9114 - val_loss: 25.4925\n",
      "Epoch 118/200\n",
      "455/455 [==============================] - 0s - loss: 52.7722 - val_loss: 24.9312\n",
      "Epoch 119/200\n",
      "455/455 [==============================] - 0s - loss: 52.2243 - val_loss: 26.8291\n",
      "Epoch 120/200\n",
      "455/455 [==============================] - 0s - loss: 52.3714 - val_loss: 24.7544\n",
      "Epoch 121/200\n",
      "455/455 [==============================] - 0s - loss: 52.3835 - val_loss: 27.7509\n",
      "Epoch 122/200\n",
      "455/455 [==============================] - 0s - loss: 52.1750 - val_loss: 28.1433\n",
      "Epoch 123/200\n",
      "455/455 [==============================] - 0s - loss: 51.8781 - val_loss: 24.8810\n",
      "Epoch 124/200\n",
      "455/455 [==============================] - 0s - loss: 51.3024 - val_loss: 26.5425\n",
      "Epoch 125/200\n",
      "455/455 [==============================] - 0s - loss: 50.8674 - val_loss: 24.2036\n",
      "Epoch 126/200\n",
      "455/455 [==============================] - 0s - loss: 51.2823 - val_loss: 26.8892\n",
      "Epoch 127/200\n",
      "455/455 [==============================] - 0s - loss: 50.3901 - val_loss: 23.9343\n",
      "Epoch 128/200\n",
      "455/455 [==============================] - 0s - loss: 50.7707 - val_loss: 23.9688\n",
      "Epoch 129/200\n",
      "455/455 [==============================] - 0s - loss: 51.1496 - val_loss: 23.3989\n",
      "Epoch 130/200\n",
      "455/455 [==============================] - 0s - loss: 50.1507 - val_loss: 25.8609\n",
      "Epoch 131/200\n",
      "455/455 [==============================] - 0s - loss: 49.8131 - val_loss: 30.9119\n",
      "Epoch 132/200\n",
      "455/455 [==============================] - 0s - loss: 50.5115 - val_loss: 25.1181\n",
      "Epoch 133/200\n",
      "455/455 [==============================] - 0s - loss: 50.1723 - val_loss: 25.5015\n",
      "Epoch 134/200\n",
      "455/455 [==============================] - 0s - loss: 49.6359 - val_loss: 25.9441\n",
      "Epoch 135/200\n",
      "455/455 [==============================] - 0s - loss: 49.5080 - val_loss: 27.7579\n",
      "Epoch 136/200\n",
      "455/455 [==============================] - 0s - loss: 49.4887 - val_loss: 24.8874\n",
      "Epoch 137/200\n",
      "455/455 [==============================] - 0s - loss: 49.0937 - val_loss: 24.2972\n",
      "Epoch 138/200\n",
      "455/455 [==============================] - 0s - loss: 49.3069 - val_loss: 23.8906\n",
      "Epoch 139/200\n",
      "455/455 [==============================] - 0s - loss: 48.6118 - val_loss: 23.9111\n",
      "Epoch 140/200\n",
      "455/455 [==============================] - 0s - loss: 48.3735 - val_loss: 23.0427\n",
      "Epoch 141/200\n",
      "455/455 [==============================] - 0s - loss: 49.0123 - val_loss: 22.2137\n",
      "Epoch 142/200\n",
      "455/455 [==============================] - 0s - loss: 48.1372 - val_loss: 22.9723\n",
      "Epoch 143/200\n",
      "455/455 [==============================] - 0s - loss: 48.1798 - val_loss: 22.6553\n",
      "Epoch 144/200\n",
      "455/455 [==============================] - 0s - loss: 48.5541 - val_loss: 27.0582\n",
      "Epoch 145/200\n",
      "455/455 [==============================] - 0s - loss: 47.0762 - val_loss: 27.8518\n",
      "Epoch 146/200\n",
      "455/455 [==============================] - 0s - loss: 47.1014 - val_loss: 21.9094\n",
      "Epoch 147/200\n",
      "455/455 [==============================] - 0s - loss: 47.2880 - val_loss: 29.8923\n",
      "Epoch 148/200\n",
      "455/455 [==============================] - 0s - loss: 47.7567 - val_loss: 26.3141\n",
      "Epoch 149/200\n",
      "455/455 [==============================] - 0s - loss: 48.0053 - val_loss: 23.4517\n",
      "Epoch 150/200\n",
      "455/455 [==============================] - 0s - loss: 47.1886 - val_loss: 21.5283\n",
      "Epoch 151/200\n",
      "455/455 [==============================] - 0s - loss: 47.2097 - val_loss: 21.4508\n",
      "Epoch 152/200\n",
      "455/455 [==============================] - 0s - loss: 47.1961 - val_loss: 21.6079\n",
      "Epoch 153/200\n",
      "455/455 [==============================] - 0s - loss: 46.9153 - val_loss: 21.8627\n",
      "Epoch 154/200\n",
      "455/455 [==============================] - 0s - loss: 46.9625 - val_loss: 22.2902\n",
      "Epoch 155/200\n",
      "455/455 [==============================] - 0s - loss: 46.8936 - val_loss: 22.0294\n",
      "Epoch 156/200\n",
      "455/455 [==============================] - 0s - loss: 46.3969 - val_loss: 21.2194\n",
      "Epoch 157/200\n",
      "455/455 [==============================] - 0s - loss: 46.8890 - val_loss: 30.4793\n",
      "Epoch 158/200\n",
      "455/455 [==============================] - 0s - loss: 46.7279 - val_loss: 22.6375\n",
      "Epoch 159/200\n",
      "455/455 [==============================] - 0s - loss: 46.8401 - val_loss: 20.8836\n",
      "Epoch 160/200\n",
      "455/455 [==============================] - 0s - loss: 46.3815 - val_loss: 22.4385\n",
      "Epoch 161/200\n",
      "455/455 [==============================] - 0s - loss: 45.9480 - val_loss: 21.4847\n",
      "Epoch 162/200\n",
      "455/455 [==============================] - 0s - loss: 46.1738 - val_loss: 23.7152\n",
      "Epoch 163/200\n",
      "455/455 [==============================] - 0s - loss: 45.5507 - val_loss: 20.8944\n",
      "Epoch 164/200\n",
      "455/455 [==============================] - 0s - loss: 45.7821 - val_loss: 32.4429\n",
      "Epoch 165/200\n",
      "455/455 [==============================] - 0s - loss: 46.1990 - val_loss: 22.6827\n",
      "Epoch 166/200\n",
      "455/455 [==============================] - 0s - loss: 45.5493 - val_loss: 20.9023\n",
      "Epoch 167/200\n",
      "455/455 [==============================] - 0s - loss: 45.6134 - val_loss: 22.2757\n",
      "Epoch 168/200\n",
      "455/455 [==============================] - 0s - loss: 44.8134 - val_loss: 22.5115\n",
      "Epoch 169/200\n",
      "455/455 [==============================] - 0s - loss: 45.0848 - val_loss: 21.3907\n",
      "Epoch 170/200\n"
     ]
    },
    {
     "name": "stdout",
     "output_type": "stream",
     "text": [
      "455/455 [==============================] - 0s - loss: 45.0091 - val_loss: 23.9333\n",
      "Epoch 171/200\n",
      "455/455 [==============================] - 0s - loss: 44.7196 - val_loss: 21.1713\n",
      "Epoch 172/200\n",
      "455/455 [==============================] - 0s - loss: 45.1199 - val_loss: 25.1579\n",
      "Epoch 173/200\n",
      "455/455 [==============================] - 0s - loss: 45.2063 - val_loss: 20.1774\n",
      "Epoch 174/200\n",
      "455/455 [==============================] - 0s - loss: 44.8191 - val_loss: 20.9861\n",
      "Epoch 175/200\n",
      "455/455 [==============================] - 0s - loss: 44.9373 - val_loss: 21.3850\n",
      "Epoch 176/200\n",
      "455/455 [==============================] - 0s - loss: 45.1453 - val_loss: 20.1438\n",
      "Epoch 177/200\n",
      "455/455 [==============================] - 0s - loss: 44.0227 - val_loss: 19.9450\n",
      "Epoch 178/200\n",
      "455/455 [==============================] - 0s - loss: 44.6714 - val_loss: 21.2442\n",
      "Epoch 179/200\n",
      "455/455 [==============================] - 0s - loss: 45.0763 - val_loss: 20.3699\n",
      "Epoch 180/200\n",
      "455/455 [==============================] - 0s - loss: 44.2141 - val_loss: 25.7203\n",
      "Epoch 181/200\n",
      "455/455 [==============================] - 0s - loss: 44.4726 - val_loss: 20.1284\n",
      "Epoch 182/200\n",
      "455/455 [==============================] - 0s - loss: 44.3650 - val_loss: 20.5096\n",
      "Epoch 183/200\n",
      "455/455 [==============================] - 0s - loss: 43.8804 - val_loss: 20.4126\n",
      "Epoch 184/200\n",
      "455/455 [==============================] - 0s - loss: 43.8236 - val_loss: 32.7126\n",
      "Epoch 185/200\n",
      "455/455 [==============================] - 0s - loss: 44.3113 - val_loss: 21.7812\n",
      "Epoch 186/200\n",
      "455/455 [==============================] - 0s - loss: 43.8195 - val_loss: 29.8487\n",
      "Epoch 187/200\n",
      "455/455 [==============================] - 0s - loss: 43.8366 - val_loss: 22.5737\n",
      "Epoch 188/200\n",
      "455/455 [==============================] - 0s - loss: 43.6800 - val_loss: 21.2827\n",
      "Epoch 189/200\n",
      "455/455 [==============================] - 0s - loss: 43.5265 - val_loss: 21.7318\n",
      "Epoch 190/200\n",
      "455/455 [==============================] - 0s - loss: 43.9708 - val_loss: 19.4450\n",
      "Epoch 191/200\n",
      "455/455 [==============================] - 0s - loss: 43.2045 - val_loss: 19.3963\n",
      "Epoch 192/200\n",
      "455/455 [==============================] - 0s - loss: 43.9411 - val_loss: 28.2653\n",
      "Epoch 193/200\n",
      "455/455 [==============================] - 0s - loss: 44.3204 - val_loss: 19.7005\n",
      "Epoch 194/200\n",
      "455/455 [==============================] - 0s - loss: 43.0842 - val_loss: 20.0493\n",
      "Epoch 195/200\n",
      "455/455 [==============================] - 0s - loss: 42.9368 - val_loss: 19.3183\n",
      "Epoch 196/200\n",
      "455/455 [==============================] - 0s - loss: 42.9235 - val_loss: 19.0809\n",
      "Epoch 197/200\n",
      "455/455 [==============================] - 0s - loss: 43.3555 - val_loss: 27.2714\n",
      "Epoch 198/200\n",
      "455/455 [==============================] - 0s - loss: 42.9022 - val_loss: 19.6213\n",
      "Epoch 199/200\n",
      "455/455 [==============================] - 0s - loss: 43.1568 - val_loss: 19.7560\n",
      "Epoch 200/200\n",
      "455/455 [==============================] - 0s - loss: 42.9338 - val_loss: 20.4172\n"
     ]
    }
   ],
   "source": [
    "history = model.fit(X_train, Y_train, validation_data=(X_test, Y_test),\n",
    "                    epochs=200)"
   ]
  },
  {
   "cell_type": "code",
   "execution_count": 124,
   "metadata": {},
   "outputs": [],
   "source": [
    "# Better model\n",
    "model2 = keras.models.Sequential()\n",
    "model2.add(keras.layers.Dense(10, input_shape=(X_train.shape[1],),\n",
    "                             activation='elu'))\n",
    "model2.add(keras.layers.Dense(1, input_shape=(10,),\n",
    "                             activation='linear'))\n",
    "model2.compile(optimizer='rmsprop', loss='mean_squared_error')"
   ]
  },
  {
   "cell_type": "code",
   "execution_count": 125,
   "metadata": {},
   "outputs": [
    {
     "name": "stdout",
     "output_type": "stream",
     "text": [
      "Train on 455 samples, validate on 51 samples\n",
      "Epoch 1/10\n",
      "455/455 [==============================] - 0s - loss: 18788.9974 - val_loss: 12653.6831\n",
      "Epoch 2/10\n",
      "455/455 [==============================] - 0s - loss: 9362.0206 - val_loss: 6154.3342\n",
      "Epoch 3/10\n",
      "455/455 [==============================] - 0s - loss: 4321.6718 - val_loss: 2663.1239\n",
      "Epoch 4/10\n",
      "455/455 [==============================] - 0s - loss: 1715.0674 - val_loss: 1042.0120\n",
      "Epoch 5/10\n",
      "455/455 [==============================] - 0s - loss: 677.6032 - val_loss: 488.1370\n",
      "Epoch 6/10\n",
      "455/455 [==============================] - 0s - loss: 375.7286 - val_loss: 310.1619\n",
      "Epoch 7/10\n",
      "455/455 [==============================] - 0s - loss: 267.8487 - val_loss: 234.4655\n",
      "Epoch 8/10\n",
      "455/455 [==============================] - 0s - loss: 224.4899 - val_loss: 164.3219\n",
      "Epoch 9/10\n",
      "455/455 [==============================] - 0s - loss: 190.5170 - val_loss: 130.0851\n",
      "Epoch 10/10\n",
      "455/455 [==============================] - 0s - loss: 170.3377 - val_loss: 114.2926\n"
     ]
    }
   ],
   "source": [
    "history2 = model2.fit(X_train, Y_train, validation_data=(X_test, Y_test),\n",
    "                    epochs=10)"
   ]
  },
  {
   "cell_type": "code",
   "execution_count": 129,
   "metadata": {},
   "outputs": [
    {
     "name": "stdout",
     "output_type": "stream",
     "text": [
      "\r",
      "32/51 [=================>............] - ETA: 0s"
     ]
    },
    {
     "data": {
      "text/plain": [
       "114.29262049057904"
      ]
     },
     "execution_count": 129,
     "metadata": {},
     "output_type": "execute_result"
    }
   ],
   "source": [
    "model2.evaluate(X_test, Y_test)"
   ]
  },
  {
   "cell_type": "markdown",
   "metadata": {},
   "source": [
    "# Basic MNIST (with conv net)"
   ]
  },
  {
   "cell_type": "code",
   "execution_count": 107,
   "metadata": {},
   "outputs": [],
   "source": [
    "mnist = keras.datasets.mnist\n",
    "from tensorflow.python.keras.layers import Dense, Dropout, Flatten,\\\n",
    "    Conv2D, MaxPooling2D\n",
    "from tensorflow.python.keras.models import Sequential"
   ]
  },
  {
   "cell_type": "code",
   "execution_count": 104,
   "metadata": {
    "scrolled": true
   },
   "outputs": [],
   "source": [
    "mnist_data = mnist.load_data()"
   ]
  },
  {
   "cell_type": "code",
   "execution_count": 109,
   "metadata": {},
   "outputs": [],
   "source": [
    "(x_train, y_train), (x_test, y_test) = mnist_data"
   ]
  },
  {
   "cell_type": "code",
   "execution_count": 105,
   "metadata": {},
   "outputs": [],
   "source": [
    "batch_size = 128\n",
    "num_classes = 10\n",
    "epochs = 12"
   ]
  },
  {
   "cell_type": "code",
   "execution_count": 108,
   "metadata": {},
   "outputs": [],
   "source": [
    "# input image dimensions\n",
    "img_rows, img_cols = 28, 28"
   ]
  },
  {
   "cell_type": "code",
   "execution_count": 111,
   "metadata": {},
   "outputs": [
    {
     "data": {
      "text/plain": [
       "'channels_last'"
      ]
     },
     "execution_count": 111,
     "metadata": {},
     "output_type": "execute_result"
    }
   ],
   "source": [
    "keras.backend.image_data_format()"
   ]
  },
  {
   "cell_type": "code",
   "execution_count": 112,
   "metadata": {},
   "outputs": [],
   "source": [
    "x_train = x_train.reshape(x_train.shape[0], img_rows, img_cols, 1)\n",
    "x_test = x_test.reshape(x_test.shape[0], img_rows, img_cols, 1)\n",
    "input_shape = (img_rows, img_cols, 1)"
   ]
  },
  {
   "cell_type": "code",
   "execution_count": 115,
   "metadata": {},
   "outputs": [
    {
     "name": "stdout",
     "output_type": "stream",
     "text": [
      "x_train shape: (60000, 28, 28, 1)\n",
      "60000 train samples\n",
      "10000 test samples\n"
     ]
    }
   ],
   "source": [
    "x_train = x_train.astype('float32')\n",
    "x_test = x_test.astype('float32')\n",
    "x_train /= 255\n",
    "x_test /= 255\n",
    "print('x_train shape:', x_train.shape)\n",
    "print(x_train.shape[0], 'train samples')\n",
    "print(x_test.shape[0], 'test samples')"
   ]
  },
  {
   "cell_type": "code",
   "execution_count": 116,
   "metadata": {},
   "outputs": [],
   "source": [
    "# convert class vectors to binary class matrices\n",
    "y_train = keras.utils.to_categorical(y_train, num_classes)\n",
    "y_test = keras.utils.to_categorical(y_test, num_classes)"
   ]
  },
  {
   "cell_type": "code",
   "execution_count": 117,
   "metadata": {},
   "outputs": [
    {
     "data": {
      "text/plain": [
       "array([[ 0.,  0.,  0., ...,  0.,  0.,  0.],\n",
       "       [ 1.,  0.,  0., ...,  0.,  0.,  0.],\n",
       "       [ 0.,  0.,  0., ...,  0.,  0.,  0.],\n",
       "       ..., \n",
       "       [ 0.,  0.,  0., ...,  0.,  0.,  0.],\n",
       "       [ 0.,  0.,  0., ...,  0.,  0.,  0.],\n",
       "       [ 0.,  0.,  0., ...,  0.,  1.,  0.]])"
      ]
     },
     "execution_count": 117,
     "metadata": {},
     "output_type": "execute_result"
    }
   ],
   "source": [
    "y_train"
   ]
  },
  {
   "cell_type": "code",
   "execution_count": 121,
   "metadata": {},
   "outputs": [],
   "source": [
    "model = Sequential()\n",
    "model.add(Conv2D(32, kernel_size=(3,3),\n",
    "                 activation='elu',\n",
    "                input_shape=input_shape))\n",
    "model.add(Conv2D(64, 3, 3, activation='elu'))\n",
    "model.add(MaxPooling2D(pool_size=(2, 2)))\n",
    "model.add(Dropout(0.25))\n",
    "model.add(Flatten())\n",
    "model.add(Dense(128, activation='elu'))\n",
    "model.add(Dropout(0.5))\n",
    "model.add(Dense(num_classes, activation='softmax'))\n",
    "\n",
    "model.compile(loss=keras.losses.categorical_crossentropy,\n",
    "              optimizer=keras.optimizers.Adadelta(),\n",
    "              metrics=['accuracy'])"
   ]
  },
  {
   "cell_type": "code",
   "execution_count": 122,
   "metadata": {},
   "outputs": [
    {
     "name": "stdout",
     "output_type": "stream",
     "text": [
      "Train on 60000 samples, validate on 10000 samples\n",
      "Epoch 1/12\n",
      "60000/60000 [==============================] - 39s - loss: 0.4630 - acc: 0.8571 - val_loss: 0.1340 - val_acc: 0.9601\n",
      "Epoch 2/12\n",
      "60000/60000 [==============================] - 40s - loss: 0.1769 - acc: 0.9462 - val_loss: 0.1021 - val_acc: 0.9683\n",
      "Epoch 3/12\n",
      "60000/60000 [==============================] - 39s - loss: 0.1418 - acc: 0.9551 - val_loss: 0.0797 - val_acc: 0.9741\n",
      "Epoch 4/12\n",
      "60000/60000 [==============================] - 38s - loss: 0.1250 - acc: 0.9616 - val_loss: 0.0710 - val_acc: 0.9767\n",
      "Epoch 5/12\n",
      "60000/60000 [==============================] - 37s - loss: 0.1111 - acc: 0.9650 - val_loss: 0.0638 - val_acc: 0.9780\n",
      "Epoch 6/12\n",
      "60000/60000 [==============================] - 37s - loss: 0.1046 - acc: 0.9676 - val_loss: 0.0612 - val_acc: 0.9787\n",
      "Epoch 7/12\n",
      "60000/60000 [==============================] - 36s - loss: 0.0971 - acc: 0.9701 - val_loss: 0.0576 - val_acc: 0.9803\n",
      "Epoch 8/12\n",
      "60000/60000 [==============================] - 37s - loss: 0.0930 - acc: 0.9710 - val_loss: 0.0560 - val_acc: 0.9809\n",
      "Epoch 9/12\n",
      "60000/60000 [==============================] - 37s - loss: 0.0892 - acc: 0.9724 - val_loss: 0.0513 - val_acc: 0.9832\n",
      "Epoch 10/12\n",
      "60000/60000 [==============================] - 37s - loss: 0.0838 - acc: 0.9736 - val_loss: 0.0530 - val_acc: 0.9819\n",
      "Epoch 11/12\n",
      "60000/60000 [==============================] - 37s - loss: 0.0816 - acc: 0.9749 - val_loss: 0.0475 - val_acc: 0.9843\n",
      "Epoch 12/12\n",
      "60000/60000 [==============================] - 37s - loss: 0.0776 - acc: 0.9758 - val_loss: 0.0483 - val_acc: 0.9840\n"
     ]
    },
    {
     "data": {
      "text/plain": [
       "<tensorflow.python.keras._impl.keras.callbacks.History at 0x230a68028d0>"
      ]
     },
     "execution_count": 122,
     "metadata": {},
     "output_type": "execute_result"
    }
   ],
   "source": [
    "model.fit(x_train, y_train,\n",
    "          batch_size=batch_size,\n",
    "          epochs=epochs,\n",
    "          verbose=1,\n",
    "          validation_data=(x_test, y_test))"
   ]
  },
  {
   "cell_type": "code",
   "execution_count": 123,
   "metadata": {},
   "outputs": [
    {
     "name": "stdout",
     "output_type": "stream",
     "text": [
      "Test loss: 0.0483159373241\n",
      "Test accuracy: 0.984\n"
     ]
    }
   ],
   "source": [
    "score = model.evaluate(x_test, y_test, verbose=0)\n",
    "print('Test loss:', score[0])\n",
    "print('Test accuracy:', score[1])"
   ]
  },
  {
   "cell_type": "code",
   "execution_count": null,
   "metadata": {},
   "outputs": [],
   "source": []
  }
 ],
 "metadata": {
  "kernelspec": {
   "display_name": "Python 3",
   "language": "python",
   "name": "python3"
  },
  "language_info": {
   "codemirror_mode": {
    "name": "ipython",
    "version": 3
   },
   "file_extension": ".py",
   "mimetype": "text/x-python",
   "name": "python",
   "nbconvert_exporter": "python",
   "pygments_lexer": "ipython3",
   "version": "3.6.3"
  }
 },
 "nbformat": 4,
 "nbformat_minor": 2
}
